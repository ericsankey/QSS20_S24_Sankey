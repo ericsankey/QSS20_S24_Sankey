{
 "cells": [
  {
   "cell_type": "code",
   "execution_count": 1,
   "metadata": {},
   "outputs": [],
   "source": [
    "## imports \n",
    "import pandas as pd\n",
    "import numpy as np\n",
    "import yaml\n",
    "import warnings\n",
    "warnings.filterwarnings(\"ignore\", category=UserWarning)\n",
    "\n",
    "# comment these out if you don't have plotnine--not essential here/only used once\n",
    "import plotnine\n",
    "from plotnine import *\n",
    "\n",
    "## way to connect to mysql \n",
    "## if you need to install\n",
    "## uncomment this line:\n",
    "#! pip install mysql-connector-python\n",
    "import mysql.connector\n",
    "\n",
    "## print mult\n",
    "## repeated printouts\n",
    "from IPython.core.interactiveshell import InteractiveShell\n",
    "InteractiveShell.ast_node_interactivity = \"all\"\n",
    "\n",
    "## function to feed path name to load\n",
    "## credentials\n",
    "def load_creds(path: str):\n",
    "    with open(path, 'r') as stream:\n",
    "        try:\n",
    "            creds = yaml.safe_load(stream)\n",
    "        except yaml.YAMLError as exc:\n",
    "            print(exc)\n",
    "    return(creds)\n"
   ]
  },
  {
   "cell_type": "markdown",
   "metadata": {},
   "source": [
    "# 0. Preliminary: define connection and read sample of data"
   ]
  },
  {
   "cell_type": "code",
   "execution_count": 9,
   "metadata": {},
   "outputs": [],
   "source": [
    "creds = load_creds(\"C:/Users/ichir/Documents/GitHub/QSS20_S24_Sankey/public_data/09_db_cred.yaml\")"
   ]
  },
  {
   "cell_type": "code",
   "execution_count": 11,
   "metadata": {},
   "outputs": [
    {
     "data": {
      "text/plain": [
       "<mysql.connector.connection_cext.CMySQLConnection at 0x1ad46a2c210>"
      ]
     },
     "execution_count": 11,
     "metadata": {},
     "output_type": "execute_result"
    }
   ],
   "source": [
    "## connect to the database\n",
    "cnx = mysql.connector.connect(user=creds['practice_database']['user'], \n",
    "                            password=creds['practice_database']['password'],\n",
    "                            port=creds['practice_database']['port'],\n",
    "                            database= creds['practice_database']['database'],\n",
    "                            host = creds['practice_database']['host'])\n",
    "cnx"
   ]
  },
  {
   "cell_type": "code",
   "execution_count": 14,
   "metadata": {},
   "outputs": [],
   "source": [
    "## define a query to pull first 5 rows\n",
    "## from caseinit table\n",
    "sample_case_q = \"\"\" \n",
    "select \n",
    "    * \n",
    "from caseinit \n",
    "limit 5\n",
    "\"\"\""
   ]
  },
  {
   "cell_type": "code",
   "execution_count": 15,
   "metadata": {},
   "outputs": [
    {
     "data": {
      "text/html": [
       "<div>\n",
       "<style scoped>\n",
       "    .dataframe tbody tr th:only-of-type {\n",
       "        vertical-align: middle;\n",
       "    }\n",
       "\n",
       "    .dataframe tbody tr th {\n",
       "        vertical-align: top;\n",
       "    }\n",
       "\n",
       "    .dataframe thead th {\n",
       "        text-align: right;\n",
       "    }\n",
       "</style>\n",
       "<table border=\"1\" class=\"dataframe\">\n",
       "  <thead>\n",
       "    <tr style=\"text-align: right;\">\n",
       "      <th></th>\n",
       "      <th>CASE_ID</th>\n",
       "      <th>CASE_PARTICIPANT_ID</th>\n",
       "      <th>RECEIVED_DATE</th>\n",
       "      <th>OFFENSE_CATEGORY</th>\n",
       "      <th>PRIMARY_CHARGE_FLAG</th>\n",
       "      <th>CHARGE_ID</th>\n",
       "      <th>CHARGE_VERSION_ID</th>\n",
       "      <th>DISPOSITION_CHARGED_OFFENSE_TITLE</th>\n",
       "      <th>CHARGE_COUNT</th>\n",
       "      <th>DISPOSITION_DATE</th>\n",
       "      <th>...</th>\n",
       "      <th>INCIDENT_END_DATE</th>\n",
       "      <th>LAW_ENFORCEMENT_AGENCY</th>\n",
       "      <th>LAW_ENFORCEMENT_UNIT</th>\n",
       "      <th>ARREST_DATE</th>\n",
       "      <th>FELONY_REVIEW_DATE</th>\n",
       "      <th>FELONY_REVIEW_RESULT</th>\n",
       "      <th>ARRAIGNMENT_DATE</th>\n",
       "      <th>UPDATED_OFFENSE_CATEGORY</th>\n",
       "      <th>is_in_diversion</th>\n",
       "      <th>in_chicago</th>\n",
       "    </tr>\n",
       "  </thead>\n",
       "  <tbody>\n",
       "    <tr>\n",
       "      <th>0</th>\n",
       "      <td>198055620664</td>\n",
       "      <td>85937621020</td>\n",
       "      <td>08/15/1984 12:00:00 AM</td>\n",
       "      <td>PROMIS Conversion</td>\n",
       "      <td>False</td>\n",
       "      <td>1242195814523</td>\n",
       "      <td>155656315869</td>\n",
       "      <td>FIRST DEGREE MURDER</td>\n",
       "      <td>2</td>\n",
       "      <td>12/17/2014 12:00:00 AM</td>\n",
       "      <td>...</td>\n",
       "      <td></td>\n",
       "      <td>CHICAGO POLICE DEPT</td>\n",
       "      <td></td>\n",
       "      <td>08/15/1984 12:00:00 AM</td>\n",
       "      <td>08/15/1984 12:00:00 AM</td>\n",
       "      <td>Charge(S) Approved</td>\n",
       "      <td>09/21/1984 12:00:00 AM</td>\n",
       "      <td>PROMIS Conversion</td>\n",
       "      <td>False</td>\n",
       "      <td>None</td>\n",
       "    </tr>\n",
       "    <tr>\n",
       "      <th>1</th>\n",
       "      <td>198055620664</td>\n",
       "      <td>85937621020</td>\n",
       "      <td>08/15/1984 12:00:00 AM</td>\n",
       "      <td>PROMIS Conversion</td>\n",
       "      <td>False</td>\n",
       "      <td>1242198287388</td>\n",
       "      <td>131513547452</td>\n",
       "      <td>HOME INVASION</td>\n",
       "      <td>14</td>\n",
       "      <td>12/17/2014 12:00:00 AM</td>\n",
       "      <td>...</td>\n",
       "      <td></td>\n",
       "      <td>CHICAGO POLICE DEPT</td>\n",
       "      <td></td>\n",
       "      <td>08/15/1984 12:00:00 AM</td>\n",
       "      <td>08/15/1984 12:00:00 AM</td>\n",
       "      <td>Charge(S) Approved</td>\n",
       "      <td>09/21/1984 12:00:00 AM</td>\n",
       "      <td>PROMIS Conversion</td>\n",
       "      <td>False</td>\n",
       "      <td>None</td>\n",
       "    </tr>\n",
       "    <tr>\n",
       "      <th>2</th>\n",
       "      <td>198055620664</td>\n",
       "      <td>85937621020</td>\n",
       "      <td>08/15/1984 12:00:00 AM</td>\n",
       "      <td>PROMIS Conversion</td>\n",
       "      <td>False</td>\n",
       "      <td>1242351605056</td>\n",
       "      <td>176626576281</td>\n",
       "      <td>FIRST DEGREE MURDER</td>\n",
       "      <td>4</td>\n",
       "      <td>12/17/2014 12:00:00 AM</td>\n",
       "      <td>...</td>\n",
       "      <td></td>\n",
       "      <td>CHICAGO POLICE DEPT</td>\n",
       "      <td></td>\n",
       "      <td>08/15/1984 12:00:00 AM</td>\n",
       "      <td>08/15/1984 12:00:00 AM</td>\n",
       "      <td>Charge(S) Approved</td>\n",
       "      <td>09/21/1984 12:00:00 AM</td>\n",
       "      <td>PROMIS Conversion</td>\n",
       "      <td>False</td>\n",
       "      <td>None</td>\n",
       "    </tr>\n",
       "    <tr>\n",
       "      <th>3</th>\n",
       "      <td>198055620664</td>\n",
       "      <td>85937621020</td>\n",
       "      <td>08/15/1984 12:00:00 AM</td>\n",
       "      <td>PROMIS Conversion</td>\n",
       "      <td>False</td>\n",
       "      <td>1242352841488</td>\n",
       "      <td>176617824190</td>\n",
       "      <td>FIRST DEGREE MURDER</td>\n",
       "      <td>5</td>\n",
       "      <td>12/17/2014 12:00:00 AM</td>\n",
       "      <td>...</td>\n",
       "      <td></td>\n",
       "      <td>CHICAGO POLICE DEPT</td>\n",
       "      <td></td>\n",
       "      <td>08/15/1984 12:00:00 AM</td>\n",
       "      <td>08/15/1984 12:00:00 AM</td>\n",
       "      <td>Charge(S) Approved</td>\n",
       "      <td>09/21/1984 12:00:00 AM</td>\n",
       "      <td>PROMIS Conversion</td>\n",
       "      <td>False</td>\n",
       "      <td>None</td>\n",
       "    </tr>\n",
       "    <tr>\n",
       "      <th>4</th>\n",
       "      <td>198055620664</td>\n",
       "      <td>85937621020</td>\n",
       "      <td>08/15/1984 12:00:00 AM</td>\n",
       "      <td>PROMIS Conversion</td>\n",
       "      <td>False</td>\n",
       "      <td>1242356550787</td>\n",
       "      <td>131238606761</td>\n",
       "      <td>HOME INVASION</td>\n",
       "      <td>13</td>\n",
       "      <td>12/17/2014 12:00:00 AM</td>\n",
       "      <td>...</td>\n",
       "      <td></td>\n",
       "      <td>CHICAGO POLICE DEPT</td>\n",
       "      <td></td>\n",
       "      <td>08/15/1984 12:00:00 AM</td>\n",
       "      <td>08/15/1984 12:00:00 AM</td>\n",
       "      <td>Charge(S) Approved</td>\n",
       "      <td>09/21/1984 12:00:00 AM</td>\n",
       "      <td>PROMIS Conversion</td>\n",
       "      <td>False</td>\n",
       "      <td>None</td>\n",
       "    </tr>\n",
       "  </tbody>\n",
       "</table>\n",
       "<p>5 rows × 43 columns</p>\n",
       "</div>"
      ],
      "text/plain": [
       "        CASE_ID  CASE_PARTICIPANT_ID           RECEIVED_DATE  \\\n",
       "0  198055620664          85937621020  08/15/1984 12:00:00 AM   \n",
       "1  198055620664          85937621020  08/15/1984 12:00:00 AM   \n",
       "2  198055620664          85937621020  08/15/1984 12:00:00 AM   \n",
       "3  198055620664          85937621020  08/15/1984 12:00:00 AM   \n",
       "4  198055620664          85937621020  08/15/1984 12:00:00 AM   \n",
       "\n",
       "    OFFENSE_CATEGORY PRIMARY_CHARGE_FLAG      CHARGE_ID  CHARGE_VERSION_ID  \\\n",
       "0  PROMIS Conversion               False  1242195814523       155656315869   \n",
       "1  PROMIS Conversion               False  1242198287388       131513547452   \n",
       "2  PROMIS Conversion               False  1242351605056       176626576281   \n",
       "3  PROMIS Conversion               False  1242352841488       176617824190   \n",
       "4  PROMIS Conversion               False  1242356550787       131238606761   \n",
       "\n",
       "  DISPOSITION_CHARGED_OFFENSE_TITLE  CHARGE_COUNT        DISPOSITION_DATE  \\\n",
       "0               FIRST DEGREE MURDER             2  12/17/2014 12:00:00 AM   \n",
       "1                     HOME INVASION            14  12/17/2014 12:00:00 AM   \n",
       "2               FIRST DEGREE MURDER             4  12/17/2014 12:00:00 AM   \n",
       "3               FIRST DEGREE MURDER             5  12/17/2014 12:00:00 AM   \n",
       "4                     HOME INVASION            13  12/17/2014 12:00:00 AM   \n",
       "\n",
       "   ... INCIDENT_END_DATE LAW_ENFORCEMENT_AGENCY LAW_ENFORCEMENT_UNIT  \\\n",
       "0  ...                      CHICAGO POLICE DEPT                        \n",
       "1  ...                      CHICAGO POLICE DEPT                        \n",
       "2  ...                      CHICAGO POLICE DEPT                        \n",
       "3  ...                      CHICAGO POLICE DEPT                        \n",
       "4  ...                      CHICAGO POLICE DEPT                        \n",
       "\n",
       "              ARREST_DATE      FELONY_REVIEW_DATE FELONY_REVIEW_RESULT  \\\n",
       "0  08/15/1984 12:00:00 AM  08/15/1984 12:00:00 AM   Charge(S) Approved   \n",
       "1  08/15/1984 12:00:00 AM  08/15/1984 12:00:00 AM   Charge(S) Approved   \n",
       "2  08/15/1984 12:00:00 AM  08/15/1984 12:00:00 AM   Charge(S) Approved   \n",
       "3  08/15/1984 12:00:00 AM  08/15/1984 12:00:00 AM   Charge(S) Approved   \n",
       "4  08/15/1984 12:00:00 AM  08/15/1984 12:00:00 AM   Charge(S) Approved   \n",
       "\n",
       "         ARRAIGNMENT_DATE UPDATED_OFFENSE_CATEGORY is_in_diversion in_chicago  \n",
       "0  09/21/1984 12:00:00 AM        PROMIS Conversion           False       None  \n",
       "1  09/21/1984 12:00:00 AM        PROMIS Conversion           False       None  \n",
       "2  09/21/1984 12:00:00 AM        PROMIS Conversion           False       None  \n",
       "3  09/21/1984 12:00:00 AM        PROMIS Conversion           False       None  \n",
       "4  09/21/1984 12:00:00 AM        PROMIS Conversion           False       None  \n",
       "\n",
       "[5 rows x 43 columns]"
      ]
     },
     "execution_count": 15,
     "metadata": {},
     "output_type": "execute_result"
    }
   ],
   "source": [
    "## feed read sql query the query\n",
    "## and my database connection\n",
    "read_sample_d = pd.read_sql_query(sample_case_q, cnx)\n",
    "\n",
    "read_sample_d"
   ]
  },
  {
   "cell_type": "markdown",
   "metadata": {},
   "source": [
    "# 1. Row and column filtering"
   ]
  },
  {
   "cell_type": "code",
   "execution_count": null,
   "metadata": {},
   "outputs": [],
   "source": [
    "## 1.1 Pulling columns"
   ]
  },
  {
   "cell_type": "code",
   "execution_count": null,
   "metadata": {},
   "outputs": [],
   "source": [
    "## select specific columns\n",
    "pull_id_q = \"\"\"\n",
    "select \n",
    "    CASE_ID, \n",
    "    CASE_PARTICIPANT_ID\n",
    "from caseinit\n",
    "\"\"\"\n",
    "\n",
    "id_d = pd.read_sql_query(pull_id_q,\n",
    "                             cnx)\n",
    "id_d.head()"
   ]
  },
  {
   "cell_type": "markdown",
   "metadata": {},
   "source": [
    "## 1.2 subsetting rows"
   ]
  },
  {
   "cell_type": "code",
   "execution_count": null,
   "metadata": {},
   "outputs": [],
   "source": [
    "## select specific rows using where\n",
    "pull_id_age_q = \"\"\"\n",
    "select \n",
    "    CASE_ID, \n",
    "    CASE_PARTICIPANT_ID, \n",
    "    AGE_AT_INCIDENT\n",
    "from caseinit\n",
    "where AGE_AT_INCIDENT > 40\n",
    "\"\"\"\n",
    "\n",
    "id_age = pd.read_sql_query(pull_id_age_q,\n",
    "                cnx)\n",
    "id_age.head()"
   ]
  },
  {
   "cell_type": "code",
   "execution_count": null,
   "metadata": {},
   "outputs": [],
   "source": [
    "## select specific rows using IN\n",
    "pull_id_r_q = \"\"\"\n",
    "select \n",
    "    CASE_ID, \n",
    "    CASE_PARTICIPANT_ID, \n",
    "    RACE\n",
    "from caseinit\n",
    "where RACE in (\"Black\", \"HISPANIC\")\n",
    "\"\"\"\n",
    "\n",
    "id_r = pd.read_sql_query(pull_id_r_q,\n",
    "                cnx)\n",
    "id_r.RACE.value_counts()"
   ]
  },
  {
   "cell_type": "markdown",
   "metadata": {},
   "source": [
    "## 1.3 Creating new columns"
   ]
  },
  {
   "cell_type": "code",
   "execution_count": null,
   "metadata": {},
   "outputs": [],
   "source": [
    "## create new col \n",
    "## using case when logic\n",
    "compare_charge_q = \"\"\"\n",
    "SELECT *,\n",
    "       CASE\n",
    "         WHEN offense_category = updated_offense_category THEN 'Same offense'\n",
    "         ELSE 'Diff offense'\n",
    "       END AS charge_update\n",
    "FROM   caseinit \n",
    "\"\"\"\n",
    "\n",
    "compare_charge_d = pd.read_sql_query(compare_charge_q, cnx)\n",
    "\n",
    "compare_charge_d.charge_update.value_counts()\n",
    "samp = compare_charge_d.groupby('charge_update').sample(n = 2, random_state = 919)\n",
    "samp[['OFFENSE_CATEGORY', 'UPDATED_OFFENSE_CATEGORY', 'charge_update']]"
   ]
  },
  {
   "cell_type": "markdown",
   "metadata": {},
   "source": [
    "## 1.4 Code that deliberately throws error due to creating var in same step as row filter"
   ]
  },
  {
   "cell_type": "code",
   "execution_count": null,
   "metadata": {},
   "outputs": [],
   "source": [
    "## create new col \n",
    "## using case when logic\n",
    "## and then row filter\n",
    "## throws error bc doesn't\n",
    "## know that charge_update exists\n",
    "compare_charge_filt_q = \"\"\"\n",
    "SELECT *,\n",
    "       CASE\n",
    "         WHEN offense_category = updated_offense_category THEN 'Same offense'\n",
    "         ELSE 'Diff offense'\n",
    "       END AS charge_update\n",
    "FROM   caseinit\n",
    "WHERE  charge_update = 'Diff offense' \n",
    "\"\"\"\n",
    "\n",
    "compare_charge_filt_d = pd.read_sql_query(compare_charge_filt_q, cnx)\n"
   ]
  },
  {
   "cell_type": "code",
   "execution_count": null,
   "metadata": {},
   "outputs": [],
   "source": [
    "## row filtering using not equal syntax\n",
    "compare_charge_q = \"\"\"\n",
    "select \n",
    "    *\n",
    "    from caseinit\n",
    "where OFFENSE_CATEGORY <> UPDATED_OFFENSE_CATEGORY\n",
    "\"\"\"\n",
    "\n",
    "test = pd.read_sql_query(compare_charge_q, cnx)\n",
    "test[['OFFENSE_CATEGORY', 'UPDATED_OFFENSE_CATEGORY']].head()"
   ]
  },
  {
   "cell_type": "markdown",
   "metadata": {},
   "source": [
    "# 2. Subqueries and aggregation: one dataset"
   ]
  },
  {
   "cell_type": "markdown",
   "metadata": {},
   "source": [
    "## 2.1 Row filtering using subquery"
   ]
  },
  {
   "cell_type": "code",
   "execution_count": null,
   "metadata": {},
   "outputs": [],
   "source": [
    "## row filtering using subquery\n",
    "compare_charge_sub_q = \"\"\"\n",
    "SELECT *\n",
    "FROM   caseinit\n",
    "       INNER JOIN (SELECT case_id    AS cid,\n",
    "                          case_participant_id AS cpid,\n",
    "                          CASE\n",
    "                            WHEN offense_category = updated_offense_category\n",
    "                          THEN\n",
    "                            'Same offense'\n",
    "                            ELSE 'Diff offense'\n",
    "                          END                 AS charge_update\n",
    "                   FROM   caseinit) AS tmp\n",
    "               ON tmp.cid = caseinit.case_id\n",
    "                  AND tmp.cpid = caseinit.case_participant_id\n",
    "WHERE  charge_update = \"diff offense\" \n",
    "\"\"\"\n",
    "\n",
    "diff_c = pd.read_sql_query(compare_charge_sub_q, cnx)\n",
    "diff_c[['OFFENSE_CATEGORY', 'UPDATED_OFFENSE_CATEGORY', 'charge_update']].head()"
   ]
  },
  {
   "cell_type": "markdown",
   "metadata": {},
   "source": [
    "## 2.2 Longer example: racial disparities in who's offered diversion\n",
    "\n",
    "-  Find the five most common offenses in the `caseinit` table\n",
    "- For those five most common offenses, find the percent of Black defendants whose cases are diverted and the percent of White defendants whose cases are diverted\n"
   ]
  },
  {
   "cell_type": "code",
   "execution_count": null,
   "metadata": {},
   "outputs": [],
   "source": [
    "## top 5 offenses\n",
    "t5 = \"\"\"\n",
    "SELECT updated_offense_category,\n",
    "       Count(*) AS count_offense\n",
    "FROM   caseinit\n",
    "WHERE  race IN ( \"black\", \"white\" )\n",
    "GROUP  BY updated_offense_category\n",
    "ORDER  BY count_offense DESC\n",
    "LIMIT  5 \n",
    "\"\"\"\n",
    "\n",
    "\n",
    "t5_d = pd.read_sql_query(t5, cnx)\n",
    "t5_d"
   ]
  },
  {
   "cell_type": "code",
   "execution_count": null,
   "metadata": {},
   "outputs": [],
   "source": [
    "## filter to rows where UPDATED_OFFENSE_CATEGORY\n",
    "## is in the top 5\n",
    "t5_rowfilt = \"\"\"\n",
    "SELECT *\n",
    "FROM   caseinit\n",
    "       INNER JOIN (SELECT updated_offense_category AS tmp_oc,\n",
    "                          Count(*)                 AS count_offense\n",
    "                   FROM   caseinit\n",
    "                   WHERE  race IN ( \"black\", \"white\" )\n",
    "                   GROUP  BY updated_offense_category\n",
    "                   ORDER  BY count_offense DESC\n",
    "                   LIMIT  5) AS top5\n",
    "               ON caseinit.updated_offense_category = top5.tmp_oc\n",
    "WHERE  race IN ( \"black\", \"white\" ) \n",
    "\"\"\"\n",
    "\n",
    "t5_d = pd.read_sql_query(t5_rowfilt, cnx)\n",
    "t5_d.shape\n",
    "t5_d.RACE.value_counts()\n",
    "t5_d.UPDATED_OFFENSE_CATEGORY.value_counts()"
   ]
  },
  {
   "cell_type": "code",
   "execution_count": null,
   "metadata": {},
   "outputs": [],
   "source": [
    "## get diversion rates by race for white and black\n",
    "## defendants \n",
    "divert_compare = \"\"\"\n",
    "SELECT updated_offense_category,\n",
    "       is_in_diversion,\n",
    "       race,\n",
    "       Count(*)               AS count_divert,\n",
    "       Count(*) / count_group AS prop_divert\n",
    "FROM   caseinit\n",
    "       INNER JOIN (SELECT updated_offense_category AS tmp_oc,\n",
    "                          race                     AS tmp_race,\n",
    "                          Count(*)                 AS count_group\n",
    "                   FROM   caseinit\n",
    "                   WHERE  race IN ( \"black\", \"white\" )\n",
    "                   GROUP  BY updated_offense_category,\n",
    "                             race) AS tmp\n",
    "               ON tmp.tmp_race = caseinit.race\n",
    "                  AND tmp.tmp_oc = caseinit.updated_offense_category\n",
    "GROUP  BY updated_offense_category,\n",
    "          race,\n",
    "          is_in_diversion\n",
    "ORDER  BY count_divert DESC \n",
    "\"\"\"\n",
    "\n",
    "divert_compare_alloff = pd.read_sql_query(divert_compare, cnx)\n",
    "divert_compare_alloff.head()\n"
   ]
  },
  {
   "cell_type": "code",
   "execution_count": null,
   "metadata": {},
   "outputs": [],
   "source": [
    "## combine with the top 5 filtering code\n",
    "divert_compare_t5 = \"\"\"\n",
    "SELECT updated_offense_category,\n",
    "       is_in_diversion,\n",
    "       race,\n",
    "       Count(*)               AS count_divert,\n",
    "       Count(*) / count_group AS prop_divert\n",
    "FROM   caseinit\n",
    "       INNER JOIN (SELECT updated_offense_category AS tmp_oc,\n",
    "                          race                     AS tmp_race,\n",
    "                          Count(*)                 AS count_group\n",
    "                   FROM   caseinit\n",
    "                   WHERE  race IN ( \"black\", \"white\" )\n",
    "                   GROUP  BY updated_offense_category,\n",
    "                             race) AS tmp\n",
    "               ON tmp.tmp_race = caseinit.race\n",
    "                  AND tmp.tmp_oc = caseinit.updated_offense_category\n",
    "       INNER JOIN (SELECT updated_offense_category AS tmp_oc_t5,\n",
    "                          Count(*)                 AS count_offense\n",
    "                   FROM   caseinit\n",
    "                   WHERE  race IN ( \"black\", \"white\" )\n",
    "                   GROUP  BY updated_offense_category\n",
    "                   ORDER  BY count_offense DESC\n",
    "                   LIMIT  5) AS top5\n",
    "               ON caseinit.updated_offense_category = top5.tmp_oc_t5\n",
    "WHERE  is_in_diversion = 'True'\n",
    "GROUP  BY updated_offense_category,\n",
    "          race,\n",
    "          is_in_diversion \n",
    "\"\"\"\n",
    "\n",
    "divert_compare_t5  = pd.read_sql_query(divert_compare_t5, cnx)\n",
    "divert_compare_t5\n"
   ]
  },
  {
   "cell_type": "markdown",
   "metadata": {},
   "source": [
    "# 3. Subqueries and aggregations: two datasets"
   ]
  },
  {
   "cell_type": "markdown",
   "metadata": {},
   "source": [
    "## 3.1 Looking at structure of diversions dataset"
   ]
  },
  {
   "cell_type": "code",
   "execution_count": null,
   "metadata": {},
   "outputs": [],
   "source": [
    "## define a query to pull first 5 rows\n",
    "## from caseinit table\n",
    "sample_div_q = \"\"\"\n",
    "SELECT *\n",
    "FROM   divert\n",
    "LIMIT  5 \n",
    "\"\"\"\n",
    "\n",
    "divert_res = pd.read_sql_query(sample_div_q, cnx)\n",
    "divert_res.head()\n",
    "divert_res.columns"
   ]
  },
  {
   "cell_type": "markdown",
   "metadata": {},
   "source": [
    "## 3.2 Left joining certain cols from caseinit onto diversions"
   ]
  },
  {
   "cell_type": "markdown",
   "metadata": {},
   "source": [
    "### Left join with everything from divert; certain cols from caseinit"
   ]
  },
  {
   "cell_type": "code",
   "execution_count": null,
   "metadata": {},
   "outputs": [],
   "source": [
    "lj_q = \"\"\"\n",
    "SELECT divert.*,\n",
    "       age_at_incident,\n",
    "       law_enforcement_agency,\n",
    "       incident_city\n",
    "FROM   divert\n",
    "       LEFT JOIN caseinit\n",
    "              ON divert.case_id = caseinit.case_id\n",
    "              AND divert.case_participant_id = caseinit.case_participant_id \n",
    "\"\"\""
   ]
  },
  {
   "cell_type": "code",
   "execution_count": null,
   "metadata": {},
   "outputs": [],
   "source": [
    "lj_d = pd.read_sql_query(lj_q, cnx)\n",
    "lj_d.head()\n",
    "lj_d.shape\n",
    "lj_d.columns"
   ]
  },
  {
   "cell_type": "code",
   "execution_count": null,
   "metadata": {},
   "outputs": [],
   "source": [
    "lj_dupfix_q = \"\"\"\n",
    "SELECT divert.*,\n",
    "       age_at_incident,\n",
    "       law_enforcement_agency,\n",
    "       incident_city,\n",
    "       caseinit.race AS caseinit_race\n",
    "FROM   divert\n",
    "       LEFT JOIN caseinit\n",
    "              ON divert.case_id = caseinit.case_id\n",
    "                 AND divert.case_participant_id = caseinit.case_participant_id \n",
    "\"\"\""
   ]
  },
  {
   "cell_type": "code",
   "execution_count": null,
   "metadata": {},
   "outputs": [],
   "source": [
    "lj_d_dupfix = pd.read_sql_query(lj_dupfix_q, cnx)"
   ]
  },
  {
   "cell_type": "code",
   "execution_count": null,
   "metadata": {},
   "outputs": [],
   "source": [
    "## only diff is that in diversion dataset\n",
    "## they have the category Latinx\n",
    "## while in case initiations that's Hispanic or \n",
    "## White hispanic/latino\n",
    "pd.crosstab(lj_d_dupfix.RACE, lj_d_dupfix.caseinit_race)"
   ]
  },
  {
   "cell_type": "markdown",
   "metadata": {},
   "source": [
    "### Aliasing the tables in the join"
   ]
  },
  {
   "cell_type": "code",
   "execution_count": null,
   "metadata": {},
   "outputs": [],
   "source": [
    "lj_alias_q = \"\"\"\n",
    "SELECT d.*,\n",
    "       age_at_incident,\n",
    "       law_enforcement_agency,\n",
    "       incident_city,\n",
    "       c.race AS caseinit_race\n",
    "FROM   divert AS d\n",
    "       LEFT JOIN caseinit AS c\n",
    "              ON d.case_id = c.case_id\n",
    "                 AND d.case_participant_id = c.case_participant_id \n",
    "\"\"\""
   ]
  },
  {
   "cell_type": "code",
   "execution_count": null,
   "metadata": {},
   "outputs": [],
   "source": [
    "lj_alias_d = pd.read_sql_query(lj_alias_q, cnx)"
   ]
  },
  {
   "cell_type": "markdown",
   "metadata": {},
   "source": [
    "# 4. Combining agg and join\n",
    "\n",
    "Task: among the cases that are diverted, for each of the charges (`UPDATED_OFFENSE_CATEGORY`) in the case initiations, find the percentage of defendants with that charge going to each `DIVERSION_PROGRAM`"
   ]
  },
  {
   "cell_type": "markdown",
   "metadata": {},
   "source": [
    "### First part: count of offenses by diversion program"
   ]
  },
  {
   "cell_type": "code",
   "execution_count": null,
   "metadata": {},
   "outputs": [],
   "source": [
    "offenses_byprogram = \"\"\"\n",
    "SELECT Count(*) AS count_offenses_byprogram,\n",
    "       updated_offense_category,\n",
    "       diversion_program\n",
    "FROM   divert\n",
    "       INNER JOIN caseinit\n",
    "               ON divert.case_id = caseinit.case_id\n",
    "                  AND divert.case_participant_id = caseinit.case_participant_id\n",
    "GROUP  BY updated_offense_category,\n",
    "          diversion_program\n",
    "ORDER  BY count_offenses_byprogram DESC \n",
    "\"\"\""
   ]
  },
  {
   "cell_type": "code",
   "execution_count": null,
   "metadata": {},
   "outputs": [],
   "source": [
    "cp = pd.read_sql_query(offenses_byprogram, cnx)\n",
    "cp.head()\n",
    "\n",
    "cp[cp.UPDATED_OFFENSE_CATEGORY == \"Narcotics\"]"
   ]
  },
  {
   "cell_type": "markdown",
   "metadata": {},
   "source": [
    "### Second part: count of offenses total"
   ]
  },
  {
   "cell_type": "code",
   "execution_count": null,
   "metadata": {},
   "outputs": [],
   "source": [
    "offenses_total = \"\"\"\n",
    "SELECT Count(*) AS count_offenses_total,\n",
    "       updated_offense_category\n",
    "FROM   divert AS d\n",
    "       INNER JOIN caseinit AS c\n",
    "               ON d.case_id = c.case_id\n",
    "                  AND d.case_participant_id = c.case_participant_id\n",
    "GROUP  BY updated_offense_category\n",
    "ORDER  BY count_offenses_total DESC \n",
    "\"\"\""
   ]
  },
  {
   "cell_type": "code",
   "execution_count": null,
   "metadata": {},
   "outputs": [],
   "source": [
    "c = pd.read_sql_query(offenses_total, cnx)\n",
    "c.head()\n",
    "\n",
    "## check that total matches sum from first query- see both are 520 \n",
    "cp.count_offenses_byprogram[cp.UPDATED_OFFENSE_CATEGORY == \"Narcotics\"].sum()"
   ]
  },
  {
   "cell_type": "markdown",
   "metadata": {},
   "source": [
    "### Combining into one query \n",
    "\n",
    "Put the numerator into a subquery and do the proportions in the outer query. We add the second inner join to make sure that when we get the denominator from the outer part, we're restricting to defendants sent to diversion"
   ]
  },
  {
   "cell_type": "code",
   "execution_count": null,
   "metadata": {},
   "outputs": [],
   "source": [
    "offenses_prop = \"\"\"\n",
    "SELECT count_offenses_byprogram / Count(*) AS prop_offenses_byprogram,\n",
    "       caseinit.updated_offense_category,\n",
    "       diversion_program\n",
    "FROM   caseinit\n",
    "       INNER JOIN (SELECT Count(*) AS count_offenses_byprogram,\n",
    "                          updated_offense_category,\n",
    "                          diversion_program\n",
    "                   FROM   divert\n",
    "                          INNER JOIN caseinit\n",
    "                                  ON divert.case_id = caseinit.case_id\n",
    "                                     AND divert.case_participant_id =\n",
    "                                         caseinit.case_participant_id\n",
    "                   GROUP  BY updated_offense_category,\n",
    "                             diversion_program) AS num\n",
    "               ON num.updated_offense_category =\n",
    "                  caseinit.updated_offense_category\n",
    "       INNER JOIN (SELECT case_id             AS cid,\n",
    "                          case_participant_id AS cpid\n",
    "                   FROM   divert) AS ppl_divert\n",
    "               ON caseinit.case_id = ppl_divert.cid\n",
    "                  AND caseinit.case_participant_id = ppl_divert.cpid\n",
    "GROUP  BY caseinit.updated_offense_category,\n",
    "          diversion_program \n",
    "\"\"\"\n",
    "\n",
    "## note: check the denom"
   ]
  },
  {
   "cell_type": "code",
   "execution_count": null,
   "metadata": {},
   "outputs": [],
   "source": [
    "cd_prop = pd.read_sql_query(offenses_prop, cnx)\n",
    "\n"
   ]
  },
  {
   "cell_type": "code",
   "execution_count": null,
   "metadata": {},
   "outputs": [],
   "source": [
    "cd_prop.head()\n",
    "cd_prop[cd_prop.UPDATED_OFFENSE_CATEGORY == \"Narcotics\"]\n",
    "\n",
    "## confirm with above counts- see ddpp matches up! :)\n",
    "prop_ddpp = cp.count_offenses_byprogram[(cp.UPDATED_OFFENSE_CATEGORY == \"Narcotics\") &\n",
    "                                       (cp.DIVERSION_PROGRAM == \"DDPP\")].iloc[0]/ \\\n",
    "            c.count_offenses_total[c.UPDATED_OFFENSE_CATEGORY == \"Narcotics\"].iloc[0]\n",
    "prop_ddpp"
   ]
  }
 ],
 "metadata": {
  "kernelspec": {
   "display_name": "Python 3 (ipykernel)",
   "language": "python",
   "name": "python3"
  },
  "language_info": {
   "codemirror_mode": {
    "name": "ipython",
    "version": 3
   },
   "file_extension": ".py",
   "mimetype": "text/x-python",
   "name": "python",
   "nbconvert_exporter": "python",
   "pygments_lexer": "ipython3",
   "version": "3.11.7"
  }
 },
 "nbformat": 4,
 "nbformat_minor": 4
}
