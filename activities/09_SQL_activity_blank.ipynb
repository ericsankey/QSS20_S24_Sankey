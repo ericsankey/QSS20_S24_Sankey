{
 "cells": [
  {
   "cell_type": "code",
   "execution_count": 2,
   "metadata": {},
   "outputs": [],
   "source": [
    "## imports \n",
    "import pandas as pd\n",
    "import numpy as np\n",
    "import yaml\n",
    "import warnings\n",
    "warnings.filterwarnings(\"ignore\", category=UserWarning)\n",
    "\n",
    "# comment these out if you don't have plotnine--not essential here/only used once\n",
    "import matplotlib.pyplot as plt\n",
    "# import plotnine\n",
    "# from plotnine import *\n",
    "\n",
    "## way to connect to mysql \n",
    "## if you need to install\n",
    "## uncomment this line:\n",
    "#! pip install mysql-connector-python\n",
    "import mysql.connector\n",
    "\n",
    "## function to feed path name to load\n",
    "## credentials\n",
    "def load_creds(path: str):\n",
    "    with open(path, 'r') as stream:\n",
    "        try:\n",
    "            creds = yaml.safe_load(stream)\n",
    "        except yaml.YAMLError as exc:\n",
    "            print(exc)\n",
    "    return(creds)\n",
    "\n",
    "pd.options.display.max_rows = 999\n",
    "from IPython.core.interactiveshell import InteractiveShell\n",
    "InteractiveShell.ast_node_interactivity = \"all\""
   ]
  },
  {
   "cell_type": "markdown",
   "metadata": {},
   "source": [
    "# Preliminary: define connection and read sample of data"
   ]
  },
  {
   "cell_type": "code",
   "execution_count": 3,
   "metadata": {},
   "outputs": [],
   "source": [
    "## read in creds; change the path name if stored\n",
    "## elsewhere\n",
    "creds = load_creds(\"C:/Users/ichir/Documents/GitHub/QSS20_S24_Sankey/public_data/09_db_cred.yaml\")"
   ]
  },
  {
   "cell_type": "code",
   "execution_count": 4,
   "metadata": {},
   "outputs": [
    {
     "data": {
      "text/plain": [
       "{'practice_database': {'user': 'qss20',\n",
       "  'password': 'xtPdDZHnxKMFSD5RyP',\n",
       "  'port': 3306,\n",
       "  'database': 'sentencing',\n",
       "  'host': 'qss20-7570-db.c.dartmouth.edu'}}"
      ]
     },
     "execution_count": 4,
     "metadata": {},
     "output_type": "execute_result"
    }
   ],
   "source": [
    "creds"
   ]
  },
  {
   "cell_type": "markdown",
   "metadata": {},
   "source": [
    "# Activity 1\n",
    "\n",
    "1. Create a new column -- `in_chicago` when pulling from the `caseinit` table that takes on the value of \"YES\" if INCIDENT_CITY = Chicago; \"NO\" otherwise (which represents incidents in Cook County suburbs outside the city limits);  and pull the table. Use `crosstabs` to confirm that this worked\n",
    "2. Repeat step 1 but also filter out blank strings (`INCIDENT_CITY` == \"\")\n",
    "3. Use `where` to row filter to initiations in Chicago and use group by to find the count of cases diverted and not diverted (`is_in_diversion`); pull the table with those counts\n",
    "4. Modify the query in step 3 to find the proportion of cases in chicago diverted (hint you made need to use case when in a subquery)\n",
    "5. Modify the query in step 4 to find the proportion of cases in chicago versus cases not in chicago sent to diversion \n"
   ]
  },
  {
   "cell_type": "code",
   "execution_count": 21,
   "metadata": {},
   "outputs": [
    {
     "data": {
      "text/plain": [
       "<mysql.connector.connection_cext.CMySQLConnection at 0x1dbc7dba650>"
      ]
     },
     "execution_count": 21,
     "metadata": {},
     "output_type": "execute_result"
    }
   ],
   "source": [
    "# your code here 1\n",
    "cnx = mysql.connector.connect(user=creds['practice_database']['user'], \n",
    "                            password=creds['practice_database']['password'],\n",
    "                            port=creds['practice_database']['port'],\n",
    "                            database= creds['practice_database']['database'],\n",
    "                            host = creds['practice_database']['host'])\n",
    "cnx"
   ]
  },
  {
   "cell_type": "code",
   "execution_count": 23,
   "metadata": {},
   "outputs": [
    {
     "name": "stdout",
     "output_type": "stream",
     "text": [
      "Step 1: New column 'in_chicago'\n",
      "        CASE_ID  CASE_PARTICIPANT_ID           RECEIVED_DATE  \\\n",
      "0  198055620664          85937621020  08/15/1984 12:00:00 AM   \n",
      "1  198055620664          85937621020  08/15/1984 12:00:00 AM   \n",
      "2  198055620664          85937621020  08/15/1984 12:00:00 AM   \n",
      "3  198055620664          85937621020  08/15/1984 12:00:00 AM   \n",
      "4  198055620664          85937621020  08/15/1984 12:00:00 AM   \n",
      "\n",
      "    OFFENSE_CATEGORY PRIMARY_CHARGE_FLAG      CHARGE_ID  CHARGE_VERSION_ID  \\\n",
      "0  PROMIS Conversion               False  1242195814523       155656315869   \n",
      "1  PROMIS Conversion               False  1242198287388       131513547452   \n",
      "2  PROMIS Conversion               False  1242351605056       176626576281   \n",
      "3  PROMIS Conversion               False  1242352841488       176617824190   \n",
      "4  PROMIS Conversion               False  1242356550787       131238606761   \n",
      "\n",
      "  DISPOSITION_CHARGED_OFFENSE_TITLE  CHARGE_COUNT        DISPOSITION_DATE  \\\n",
      "0               FIRST DEGREE MURDER             2  12/17/2014 12:00:00 AM   \n",
      "1                     HOME INVASION            14  12/17/2014 12:00:00 AM   \n",
      "2               FIRST DEGREE MURDER             4  12/17/2014 12:00:00 AM   \n",
      "3               FIRST DEGREE MURDER             5  12/17/2014 12:00:00 AM   \n",
      "4                     HOME INVASION            13  12/17/2014 12:00:00 AM   \n",
      "\n",
      "   ... LAW_ENFORCEMENT_AGENCY LAW_ENFORCEMENT_UNIT             ARREST_DATE  \\\n",
      "0  ...    CHICAGO POLICE DEPT                       08/15/1984 12:00:00 AM   \n",
      "1  ...    CHICAGO POLICE DEPT                       08/15/1984 12:00:00 AM   \n",
      "2  ...    CHICAGO POLICE DEPT                       08/15/1984 12:00:00 AM   \n",
      "3  ...    CHICAGO POLICE DEPT                       08/15/1984 12:00:00 AM   \n",
      "4  ...    CHICAGO POLICE DEPT                       08/15/1984 12:00:00 AM   \n",
      "\n",
      "       FELONY_REVIEW_DATE FELONY_REVIEW_RESULT        ARRAIGNMENT_DATE  \\\n",
      "0  08/15/1984 12:00:00 AM   Charge(S) Approved  09/21/1984 12:00:00 AM   \n",
      "1  08/15/1984 12:00:00 AM   Charge(S) Approved  09/21/1984 12:00:00 AM   \n",
      "2  08/15/1984 12:00:00 AM   Charge(S) Approved  09/21/1984 12:00:00 AM   \n",
      "3  08/15/1984 12:00:00 AM   Charge(S) Approved  09/21/1984 12:00:00 AM   \n",
      "4  08/15/1984 12:00:00 AM   Charge(S) Approved  09/21/1984 12:00:00 AM   \n",
      "\n",
      "  UPDATED_OFFENSE_CATEGORY is_in_diversion in_chicago in_chicago  \n",
      "0        PROMIS Conversion           False       None         NO  \n",
      "1        PROMIS Conversion           False       None         NO  \n",
      "2        PROMIS Conversion           False       None         NO  \n",
      "3        PROMIS Conversion           False       None         NO  \n",
      "4        PROMIS Conversion           False       None         NO  \n",
      "\n",
      "[5 rows x 44 columns]\n",
      "\n",
      "Step 2: New column 'in_chicago' with blank strings filtered out\n",
      "        CASE_ID  CASE_PARTICIPANT_ID           RECEIVED_DATE  \\\n",
      "0  288677981683          95130773152  08/13/2006 12:00:00 AM   \n",
      "1  289906337472         103165877915  06/18/2007 12:00:00 AM   \n",
      "2  291517474172         103760942634  08/20/2008 12:00:00 AM   \n",
      "3  291824708774         103847218017  09/06/2008 12:00:00 AM   \n",
      "4  292499187771         103592823349  02/26/2010 12:00:00 AM   \n",
      "\n",
      "    OFFENSE_CATEGORY PRIMARY_CHARGE_FLAG      CHARGE_ID  CHARGE_VERSION_ID  \\\n",
      "0  PROMIS Conversion                True  8889814596849       969426374459   \n",
      "1         Sex Crimes               False  6339673180732       590301665421   \n",
      "2  PROMIS Conversion                True  6363523969467       608781580816   \n",
      "3  PROMIS Conversion                True  6786219541928       701030496794   \n",
      "4  PROMIS Conversion                True  8223789049105       866910505404   \n",
      "\n",
      "                   DISPOSITION_CHARGED_OFFENSE_TITLE  CHARGE_COUNT  \\\n",
      "0                            DUI LIC SUSP OR REVOKED             1   \n",
      "1                            CRIMINAL SEXUAL ASSAULT             5   \n",
      "2  AGGRAVATED FLEEING OR ATTEMPT TO ELUDE A PEACE...             1   \n",
      "3  AGGRAVATED DRIVING UNDER THE INFLUENCE OF ALCOHOL             1   \n",
      "4                           UNLAWFUL USE OF A WEAPON             1   \n",
      "\n",
      "         DISPOSITION_DATE  ...    LAW_ENFORCEMENT_AGENCY LAW_ENFORCEMENT_UNIT  \\\n",
      "0  01/28/2015 12:00:00 AM  ...               OAK PARK PD                        \n",
      "1  12/09/2013 12:00:00 AM  ...  HARVEY POLICE DEPARTMENT                        \n",
      "2  01/18/2012 12:00:00 AM  ...           MORTON GROVE PD                        \n",
      "3  07/11/2012 12:00:00 AM  ...                CHICAGO PD                        \n",
      "4  08/22/2011 12:00:00 AM  ...       CHICAGO POLICE DEPT                        \n",
      "\n",
      "              ARREST_DATE      FELONY_REVIEW_DATE FELONY_REVIEW_RESULT  \\\n",
      "0  08/13/2006 02:53:00 AM  08/13/2006 12:00:00 AM   Charge(S) Approved   \n",
      "1  08/30/2011 02:00:00 PM  08/30/2011 12:00:00 AM             Approved   \n",
      "2  08/20/2008 12:00:00 AM  08/20/2008 12:00:00 AM  Approved Arrest War   \n",
      "3  09/06/2008 12:45:00 AM  09/06/2008 12:00:00 AM   Charge(S) Approved   \n",
      "4  02/25/2010 09:49:00 PM  02/26/2010 12:00:00 AM                   Sf   \n",
      "\n",
      "         ARRAIGNMENT_DATE UPDATED_OFFENSE_CATEGORY is_in_diversion in_chicago  \\\n",
      "0  10/03/2012 12:00:00 AM        PROMIS Conversion           False       None   \n",
      "1  10/06/2011 12:00:00 AM               Sex Crimes           False       None   \n",
      "2  08/02/2010 12:00:00 AM        PROMIS Conversion           False       None   \n",
      "3  09/08/2011 12:00:00 AM        PROMIS Conversion           False       None   \n",
      "4  05/28/2010 12:00:00 AM        PROMIS Conversion           False       None   \n",
      "\n",
      "  in_chicago  \n",
      "0         NO  \n",
      "1         NO  \n",
      "2         NO  \n",
      "3        YES  \n",
      "4        YES  \n",
      "\n",
      "[5 rows x 44 columns]\n",
      "\n",
      "Step 3: Count of cases diverted and not diverted in Chicago\n",
      "  in_chicago  cases_diverted  cases_not_diverted\n",
      "0       None             0.0                 0.0\n",
      "\n",
      "Step 4: Proportion of cases in Chicago diverted\n",
      "  in_chicago  proportion_diverted\n",
      "0       None                  0.0\n",
      "\n",
      "Step 5: Proportion of cases in Chicago versus cases not in Chicago sent to diversion\n",
      "  in_chicago  proportion_diverted  proportion_diverted_not_in_chicago\n",
      "0       None                  0.0                                 0.0\n"
     ]
    }
   ],
   "source": [
    "# your code here 2\n",
    "\n",
    "# Step 1: Create a new column 'in_chicago'\n",
    "query_step_1 = \"\"\"\n",
    "SELECT *,\n",
    "       CASE \n",
    "           WHEN INCIDENT_CITY = 'Chicago' THEN 'YES'\n",
    "           ELSE 'NO'\n",
    "       END AS in_chicago\n",
    "FROM caseinit\n",
    "\"\"\"\n",
    "\n",
    "# Execute the query\n",
    "read_step_1 = pd.read_sql_query(query_step_1, cnx)\n",
    "print(\"Step 1: New column 'in_chicago'\")\n",
    "print(read_step_1.head())\n",
    "\n",
    "# Step 2: Repeat step 1 but also filter out blank strings (INCIDENT_CITY == \"\")\n",
    "query_step_2 = \"\"\"\n",
    "SELECT *,\n",
    "       CASE \n",
    "           WHEN INCIDENT_CITY = 'Chicago' THEN 'YES'\n",
    "           ELSE 'NO'\n",
    "       END AS in_chicago\n",
    "FROM caseinit\n",
    "WHERE INCIDENT_CITY <> ''\n",
    "\"\"\"\n",
    "\n",
    "# Execute the query\n",
    "read_step_2 = pd.read_sql_query(query_step_2, cnx)\n",
    "print(\"\\nStep 2: New column 'in_chicago' with blank strings filtered out\")\n",
    "print(read_step_2.head())\n",
    "\n",
    "# Step 3: Use WHERE to row filter to initiations in Chicago and use GROUP BY to find the count of cases diverted and not diverted (is_in_diversion)\n",
    "query_step_3 = \"\"\"\n",
    "SELECT in_chicago,\n",
    "       SUM(CASE WHEN is_in_diversion = 'Yes' THEN 1 ELSE 0 END) AS cases_diverted,\n",
    "       SUM(CASE WHEN is_in_diversion = 'No' THEN 1 ELSE 0 END) AS cases_not_diverted\n",
    "FROM caseinit\n",
    "WHERE INCIDENT_CITY = 'Chicago'\n",
    "GROUP BY in_chicago\n",
    "\"\"\"\n",
    "\n",
    "# Execute the query\n",
    "read_step_3 = pd.read_sql_query(query_step_3, cnx)\n",
    "print(\"\\nStep 3: Count of cases diverted and not diverted in Chicago\")\n",
    "print(read_step_3)\n",
    "\n",
    "# Step 4: Modify the query in step 3 to find the proportion of cases in Chicago diverted\n",
    "query_step_4 = \"\"\"\n",
    "SELECT in_chicago,\n",
    "       SUM(CASE WHEN is_in_diversion = 'Yes' THEN 1 ELSE 0 END) / COUNT(*) AS proportion_diverted\n",
    "FROM caseinit\n",
    "WHERE INCIDENT_CITY = 'Chicago'\n",
    "GROUP BY in_chicago\n",
    "\"\"\"\n",
    "\n",
    "# Execute the query\n",
    "read_step_4 = pd.read_sql_query(query_step_4, cnx)\n",
    "print(\"\\nStep 4: Proportion of cases in Chicago diverted\")\n",
    "print(read_step_4)\n",
    "\n",
    "# Step 5: Modify the query in step 4 to find the proportion of cases in Chicago versus cases not in Chicago sent to diversion\n",
    "query_step_5 = \"\"\"\n",
    "SELECT in_chicago,\n",
    "       SUM(CASE WHEN is_in_diversion = 'Yes' THEN 1 ELSE 0 END) / COUNT(*) AS proportion_diverted,\n",
    "       (SELECT SUM(CASE WHEN is_in_diversion = 'Yes' THEN 1 ELSE 0 END) / COUNT(*)\n",
    "        FROM caseinit\n",
    "        WHERE INCIDENT_CITY != 'Chicago') AS proportion_diverted_not_in_chicago\n",
    "FROM caseinit\n",
    "WHERE INCIDENT_CITY = 'Chicago'\n",
    "GROUP BY in_chicago\n",
    "\"\"\"\n",
    "\n",
    "# Execute the query\n",
    "read_step_5 = pd.read_sql_query(query_step_5, cnx)\n",
    "print(\"\\nStep 5: Proportion of cases in Chicago versus cases not in Chicago sent to diversion\")\n",
    "print(read_step_5)\n"
   ]
  },
  {
   "cell_type": "code",
   "execution_count": null,
   "metadata": {},
   "outputs": [],
   "source": [
    "# your code here 3"
   ]
  },
  {
   "cell_type": "code",
   "execution_count": null,
   "metadata": {},
   "outputs": [],
   "source": [
    "# your code here 4"
   ]
  },
  {
   "cell_type": "code",
   "execution_count": null,
   "metadata": {},
   "outputs": [],
   "source": [
    "# your code here 5"
   ]
  },
  {
   "cell_type": "markdown",
   "metadata": {},
   "source": [
    "# Activity 2 \n",
    "\n",
    "1. Use the following crosswalk and the `CASE` variable in the `divert` table to create a new variable `DIVERSION_PROGRAM_TEXT` that spells out the diversion programs\n",
    "    - DC: Drug Court\n",
    "\n",
    "    - DDPP: Drug Deferred Prosecution\n",
    "\n",
    "    - DS: Drug School\n",
    "\n",
    "    - RJCC: Restorative Justice\n",
    "\n",
    "    - MHC: Mental Health Court\n",
    "\n",
    "    - VC: Veteran Court\n",
    "\n",
    "2. Build on the query from step 1 to filter to Narcotics as the `UPDATED_OFFENSE_CATEGORY` and Black or White defendants (based on race in the diversions table) (hint: you'll need to join with the caseinit table based on case_id and case_participant_id, you can do a inner join to keep only those diverted). Select the case_id, case_participant_id, case, race, and diversion_program_text columns"
   ]
  },
  {
   "cell_type": "code",
   "execution_count": null,
   "metadata": {},
   "outputs": [],
   "source": [
    "# your code here 1"
   ]
  },
  {
   "cell_type": "code",
   "execution_count": null,
   "metadata": {},
   "outputs": [],
   "source": [
    "# your code here 2"
   ]
  }
 ],
 "metadata": {
  "kernelspec": {
   "display_name": "Python 3 (ipykernel)",
   "language": "python",
   "name": "python3"
  },
  "language_info": {
   "codemirror_mode": {
    "name": "ipython",
    "version": 3
   },
   "file_extension": ".py",
   "mimetype": "text/x-python",
   "name": "python",
   "nbconvert_exporter": "python",
   "pygments_lexer": "ipython3",
   "version": "3.11.7"
  }
 },
 "nbformat": 4,
 "nbformat_minor": 4
}
